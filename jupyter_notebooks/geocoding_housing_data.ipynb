{
 "cells": [
  {
   "cell_type": "markdown",
   "id": "a4948833",
   "metadata": {},
   "source": [
    "<b>Create Sidebar Navigation - best viewed in full screen</b>"
   ]
  },
  {
   "cell_type": "code",
   "execution_count": 1,
   "id": "89ae818e",
   "metadata": {},
   "outputs": [
    {
     "data": {
      "application/javascript": [
       "$('<div id=\"toc\"></div>').css({position: 'fixed', top: '120px', left: 0}).appendTo(document.body);\n",
       "$.getScript('https://kmahelona.github.io/ipython_notebook_goodies/ipython_notebook_toc.js');\n"
      ],
      "text/plain": [
       "<IPython.core.display.Javascript object>"
      ]
     },
     "metadata": {},
     "output_type": "display_data"
    }
   ],
   "source": [
    "%%javascript\n",
    "$('<div id=\"toc\"></div>').css({position: 'fixed', top: '120px', left: 0}).appendTo(document.body);\n",
    "$.getScript('https://kmahelona.github.io/ipython_notebook_goodies/ipython_notebook_toc.js');"
   ]
  },
  {
   "cell_type": "markdown",
   "id": "f9148f0a",
   "metadata": {},
   "source": [
    "# Read In Data"
   ]
  },
  {
   "cell_type": "code",
   "execution_count": 1,
   "id": "8e9dbefa",
   "metadata": {},
   "outputs": [],
   "source": [
    "# Import dependencies\n",
    "import pandas as pd"
   ]
  },
  {
   "cell_type": "code",
   "execution_count": 2,
   "id": "567a1811",
   "metadata": {},
   "outputs": [
    {
     "data": {
      "text/html": [
       "<div>\n",
       "<style scoped>\n",
       "    .dataframe tbody tr th:only-of-type {\n",
       "        vertical-align: middle;\n",
       "    }\n",
       "\n",
       "    .dataframe tbody tr th {\n",
       "        vertical-align: top;\n",
       "    }\n",
       "\n",
       "    .dataframe thead th {\n",
       "        text-align: right;\n",
       "    }\n",
       "</style>\n",
       "<table border=\"1\" class=\"dataframe\">\n",
       "  <thead>\n",
       "    <tr style=\"text-align: right;\">\n",
       "      <th></th>\n",
       "      <th>Total_Value</th>\n",
       "      <th>Address</th>\n",
       "      <th>City</th>\n",
       "      <th>Zip_Code</th>\n",
       "      <th>Planning_Jurisdiction</th>\n",
       "      <th>Zoning</th>\n",
       "      <th>Acreage</th>\n",
       "      <th>Sqft</th>\n",
       "      <th>Age</th>\n",
       "      <th>Bath</th>\n",
       "      <th>Remodel_Addition</th>\n",
       "      <th>Style</th>\n",
       "    </tr>\n",
       "  </thead>\n",
       "  <tbody>\n",
       "    <tr>\n",
       "      <th>0</th>\n",
       "      <td>249321</td>\n",
       "      <td>2457 BERTIE DR</td>\n",
       "      <td>RALEIGH</td>\n",
       "      <td>27610</td>\n",
       "      <td>9</td>\n",
       "      <td>R-4</td>\n",
       "      <td>0.21</td>\n",
       "      <td>1828</td>\n",
       "      <td>59</td>\n",
       "      <td>2.0</td>\n",
       "      <td>0</td>\n",
       "      <td>8</td>\n",
       "    </tr>\n",
       "  </tbody>\n",
       "</table>\n",
       "</div>"
      ],
      "text/plain": [
       "   Total_Value         Address     City  Zip_Code  Planning_Jurisdiction  \\\n",
       "0       249321  2457 BERTIE DR  RALEIGH     27610                      9   \n",
       "\n",
       "  Zoning  Acreage  Sqft  Age  Bath  Remodel_Addition  Style  \n",
       "0    R-4     0.21  1828   59   2.0                 0      8  "
      ]
     },
     "execution_count": 2,
     "metadata": {},
     "output_type": "execute_result"
    }
   ],
   "source": [
    "# Import housing data to match houses with noise values\n",
    "housing_df = pd.read_csv(\"../resources/in_progress/housing_data_clean.csv\")\n",
    "\n",
    "housing_df.head(1)"
   ]
  },
  {
   "cell_type": "markdown",
   "id": "7381ccf4",
   "metadata": {},
   "source": [
    "# Create Starter DataFrame"
   ]
  },
  {
   "cell_type": "code",
   "execution_count": 3,
   "id": "44a0fc17",
   "metadata": {},
   "outputs": [
    {
     "data": {
      "text/html": [
       "<div>\n",
       "<style scoped>\n",
       "    .dataframe tbody tr th:only-of-type {\n",
       "        vertical-align: middle;\n",
       "    }\n",
       "\n",
       "    .dataframe tbody tr th {\n",
       "        vertical-align: top;\n",
       "    }\n",
       "\n",
       "    .dataframe thead th {\n",
       "        text-align: right;\n",
       "    }\n",
       "</style>\n",
       "<table border=\"1\" class=\"dataframe\">\n",
       "  <thead>\n",
       "    <tr style=\"text-align: right;\">\n",
       "      <th></th>\n",
       "      <th>Address</th>\n",
       "      <th>City</th>\n",
       "      <th>State</th>\n",
       "      <th>Zip_Code</th>\n",
       "    </tr>\n",
       "  </thead>\n",
       "  <tbody>\n",
       "    <tr>\n",
       "      <th>0</th>\n",
       "      <td>2457 BERTIE DR</td>\n",
       "      <td>RALEIGH</td>\n",
       "      <td>NC</td>\n",
       "      <td>27610</td>\n",
       "    </tr>\n",
       "  </tbody>\n",
       "</table>\n",
       "</div>"
      ],
      "text/plain": [
       "          Address     City State  Zip_Code\n",
       "0  2457 BERTIE DR  RALEIGH    NC     27610"
      ]
     },
     "execution_count": 3,
     "metadata": {},
     "output_type": "execute_result"
    }
   ],
   "source": [
    "# Create starter dataframe\n",
    "noise_starter_df = pd.DataFrame(housing_df[[\"Address\", \"City\"]])\n",
    "\n",
    "# Set state to North Carolina for easier geocoding\n",
    "noise_starter_df[\"State\"] = \"NC\"\n",
    "\n",
    "# Add zip codes last\n",
    "noise_starter_df[\"Zip_Code\"] = housing_df[[\"Zip_Code\"]]\n",
    "\n",
    "noise_starter_df.head(1)"
   ]
  },
  {
   "cell_type": "markdown",
   "id": "b90ecc96",
   "metadata": {},
   "source": [
    "# Geocode Process"
   ]
  },
  {
   "cell_type": "markdown",
   "id": "bd32200e",
   "metadata": {},
   "source": [
    "## Round I\n",
    "Uses https://geocoding.geo.census.gov/geocoder/locations/addressbatch?form to geocode addresses"
   ]
  },
  {
   "cell_type": "code",
   "execution_count": 4,
   "id": "a39fe3ff",
   "metadata": {},
   "outputs": [],
   "source": [
    "# Batch into CSVs of 9,999 rows for geocoding (states 10,000 but will not accept; 9,999 at a time works)\n",
    "import numpy as np\n",
    "no_of_rows = 9999\n",
    "for k,g in noise_starter_df.groupby(np.arange(len(noise_starter_df))//no_of_rows):\n",
    "    g.to_csv(\"../resources/in_progress/addresses_to_geocode/set_{}.csv\".format(k+1))"
   ]
  },
  {
   "cell_type": "code",
   "execution_count": 6,
   "id": "fb8be825",
   "metadata": {},
   "outputs": [
    {
     "data": {
      "text/html": [
       "<div>\n",
       "<style scoped>\n",
       "    .dataframe tbody tr th:only-of-type {\n",
       "        vertical-align: middle;\n",
       "    }\n",
       "\n",
       "    .dataframe tbody tr th {\n",
       "        vertical-align: top;\n",
       "    }\n",
       "\n",
       "    .dataframe thead th {\n",
       "        text-align: right;\n",
       "    }\n",
       "</style>\n",
       "<table border=\"1\" class=\"dataframe\">\n",
       "  <thead>\n",
       "    <tr style=\"text-align: right;\">\n",
       "      <th></th>\n",
       "      <th>Unnamed: 0</th>\n",
       "      <th>Address, City, State, Zip_Code</th>\n",
       "      <th>Match</th>\n",
       "      <th>Type</th>\n",
       "      <th>Address Matched</th>\n",
       "      <th>Coordinates</th>\n",
       "      <th>Tiger_Line_ID</th>\n",
       "      <th>Side</th>\n",
       "    </tr>\n",
       "  </thead>\n",
       "  <tbody>\n",
       "    <tr>\n",
       "      <th>0</th>\n",
       "      <td>17288</td>\n",
       "      <td>1505 BASEWOOD DR, RALEIGH, NC, 27609</td>\n",
       "      <td>Match</td>\n",
       "      <td>Exact</td>\n",
       "      <td>1505 BASEWOOD DR, RALEIGH, NC, 27609</td>\n",
       "      <td>-78.61314566299995,35.83405377100007</td>\n",
       "      <td>72507908.0</td>\n",
       "      <td>L</td>\n",
       "    </tr>\n",
       "  </tbody>\n",
       "</table>\n",
       "</div>"
      ],
      "text/plain": [
       "   Unnamed: 0        Address, City, State, Zip_Code  Match   Type  \\\n",
       "0       17288  1505 BASEWOOD DR, RALEIGH, NC, 27609  Match  Exact   \n",
       "\n",
       "                        Address Matched                           Coordinates  \\\n",
       "0  1505 BASEWOOD DR, RALEIGH, NC, 27609  -78.61314566299995,35.83405377100007   \n",
       "\n",
       "   Tiger_Line_ID Side  \n",
       "0     72507908.0    L  "
      ]
     },
     "execution_count": 6,
     "metadata": {},
     "output_type": "execute_result"
    }
   ],
   "source": [
    "# Read in and combine geocoded addresses into singular dataframe\n",
    "import glob\n",
    "import os\n",
    "\n",
    "joined_files = os.path.join(\"../resources/in_progress/addresses_geocoded\", \"*.csv\")\n",
    "joined_list = glob.glob(joined_files)\n",
    "\n",
    "first_df = pd.concat(map(pd.read_csv, joined_list))\n",
    "first_df.head(1)"
   ]
  },
  {
   "cell_type": "markdown",
   "id": "2e462ac4",
   "metadata": {},
   "source": [
    "### Matched Address Count"
   ]
  },
  {
   "cell_type": "code",
   "execution_count": 7,
   "id": "7c2dbe89",
   "metadata": {},
   "outputs": [
    {
     "data": {
      "text/plain": [
       "Match       228517\n",
       "No_Match     12995\n",
       "Tie            394\n",
       "Name: Match, dtype: int64"
      ]
     },
     "execution_count": 7,
     "metadata": {},
     "output_type": "execute_result"
    }
   ],
   "source": [
    "# See how many matched\n",
    "first_df[\"Match\"].value_counts()"
   ]
  },
  {
   "cell_type": "markdown",
   "id": "3540e9d3",
   "metadata": {},
   "source": [
    "## Round II\n",
    "Use https://www.geoapify.com/tools/geocoding-online to geocode addresses"
   ]
  },
  {
   "cell_type": "code",
   "execution_count": 8,
   "id": "278883c8",
   "metadata": {},
   "outputs": [
    {
     "data": {
      "text/html": [
       "<div>\n",
       "<style scoped>\n",
       "    .dataframe tbody tr th:only-of-type {\n",
       "        vertical-align: middle;\n",
       "    }\n",
       "\n",
       "    .dataframe tbody tr th {\n",
       "        vertical-align: top;\n",
       "    }\n",
       "\n",
       "    .dataframe thead th {\n",
       "        text-align: right;\n",
       "    }\n",
       "</style>\n",
       "<table border=\"1\" class=\"dataframe\">\n",
       "  <thead>\n",
       "    <tr style=\"text-align: right;\">\n",
       "      <th></th>\n",
       "      <th>Address, City, State, Zip_Code</th>\n",
       "    </tr>\n",
       "  </thead>\n",
       "  <tbody>\n",
       "    <tr>\n",
       "      <th>2</th>\n",
       "      <td>1143 OLD US 264 HWY, ZEBULON, NC, 27597</td>\n",
       "    </tr>\n",
       "  </tbody>\n",
       "</table>\n",
       "</div>"
      ],
      "text/plain": [
       "            Address, City, State, Zip_Code\n",
       "2  1143 OLD US 264 HWY, ZEBULON, NC, 27597"
      ]
     },
     "execution_count": 8,
     "metadata": {},
     "output_type": "execute_result"
    }
   ],
   "source": [
    "# Create dataframe of addresses to retry geolocating\n",
    "second_df_start = first_df.loc[((first_df[\"Match\"] == \"No_Match\") | (first_df[\"Match\"] == \"Tie\"))]\n",
    "second_df_start = second_df_start[[\"Address, City, State, Zip_Code\"]]\n",
    "second_df_start.head(1)"
   ]
  },
  {
   "cell_type": "code",
   "execution_count": 9,
   "id": "d5c3934f",
   "metadata": {},
   "outputs": [
    {
     "data": {
      "text/html": [
       "<div>\n",
       "<style scoped>\n",
       "    .dataframe tbody tr th:only-of-type {\n",
       "        vertical-align: middle;\n",
       "    }\n",
       "\n",
       "    .dataframe tbody tr th {\n",
       "        vertical-align: top;\n",
       "    }\n",
       "\n",
       "    .dataframe thead th {\n",
       "        text-align: right;\n",
       "    }\n",
       "</style>\n",
       "<table border=\"1\" class=\"dataframe\">\n",
       "  <thead>\n",
       "    <tr style=\"text-align: right;\">\n",
       "      <th></th>\n",
       "      <th>Address</th>\n",
       "      <th>City</th>\n",
       "      <th>State</th>\n",
       "      <th>Zip_Code</th>\n",
       "    </tr>\n",
       "  </thead>\n",
       "  <tbody>\n",
       "    <tr>\n",
       "      <th>0</th>\n",
       "      <td>1143 OLD US 264 HWY</td>\n",
       "      <td>ZEBULON</td>\n",
       "      <td>NC</td>\n",
       "      <td>27597</td>\n",
       "    </tr>\n",
       "  </tbody>\n",
       "</table>\n",
       "</div>"
      ],
      "text/plain": [
       "               Address      City  State  Zip_Code\n",
       "0  1143 OLD US 264 HWY   ZEBULON     NC     27597"
      ]
     },
     "execution_count": 9,
     "metadata": {},
     "output_type": "execute_result"
    }
   ],
   "source": [
    "# Separate address fields\n",
    "cols = second_df_start.columns.tolist()\n",
    "separate_cols = []\n",
    "for col in cols:\n",
    "    separate_cols.append(col.split(\",\"))\n",
    "    \n",
    "values = second_df_start.values.tolist()\n",
    "separate_values = []\n",
    "for value in values:\n",
    "    separate_values.append(value[0].split(\",\"))\n",
    "    \n",
    "second_df_start = pd.DataFrame(separate_values, columns=separate_cols[0])\n",
    "second_df_start.head(1)"
   ]
  },
  {
   "cell_type": "code",
   "execution_count": 10,
   "id": "b8efb380",
   "metadata": {},
   "outputs": [],
   "source": [
    "# Split into rows to retry geocoding\n",
    "no_of_rows = 500\n",
    "for k,g in second_df_start.groupby(np.arange(len(second_df_start))//no_of_rows):\n",
    "    g.to_csv(\"../resources/in_progress/addresses_to_retry/set_{}.csv\".format(k+1))"
   ]
  },
  {
   "cell_type": "code",
   "execution_count": 11,
   "id": "64b1fe2c",
   "metadata": {},
   "outputs": [
    {
     "data": {
      "text/html": [
       "<div>\n",
       "<style scoped>\n",
       "    .dataframe tbody tr th:only-of-type {\n",
       "        vertical-align: middle;\n",
       "    }\n",
       "\n",
       "    .dataframe tbody tr th {\n",
       "        vertical-align: top;\n",
       "    }\n",
       "\n",
       "    .dataframe thead th {\n",
       "        text-align: right;\n",
       "    }\n",
       "</style>\n",
       "<table border=\"1\" class=\"dataframe\">\n",
       "  <thead>\n",
       "    <tr style=\"text-align: right;\">\n",
       "      <th></th>\n",
       "      <th>original_</th>\n",
       "      <th>original_Address</th>\n",
       "      <th>original_ City</th>\n",
       "      <th>original_ State</th>\n",
       "      <th>original_ Zip_Code</th>\n",
       "      <th>lat</th>\n",
       "      <th>lon</th>\n",
       "      <th>formatted</th>\n",
       "      <th>housenumber</th>\n",
       "      <th>name</th>\n",
       "      <th>...</th>\n",
       "      <th>state_code</th>\n",
       "      <th>country</th>\n",
       "      <th>country_code</th>\n",
       "      <th>confidence</th>\n",
       "      <th>confidence_city_level</th>\n",
       "      <th>confidence_street_level</th>\n",
       "      <th>attribution</th>\n",
       "      <th>attribution_license</th>\n",
       "      <th>attribution_url</th>\n",
       "      <th>suburb</th>\n",
       "    </tr>\n",
       "  </thead>\n",
       "  <tbody>\n",
       "    <tr>\n",
       "      <th>0</th>\n",
       "      <td>7500</td>\n",
       "      <td>8801 GREEN ARBOR CT</td>\n",
       "      <td>WAKE FOREST</td>\n",
       "      <td>NC</td>\n",
       "      <td>27587</td>\n",
       "      <td>36.017726</td>\n",
       "      <td>-78.568723</td>\n",
       "      <td>Green Arbor Court, Wake County, NC 27587, Unit...</td>\n",
       "      <td>NaN</td>\n",
       "      <td>Green Arbor Court</td>\n",
       "      <td>...</td>\n",
       "      <td>NC</td>\n",
       "      <td>United States</td>\n",
       "      <td>us</td>\n",
       "      <td>0.5</td>\n",
       "      <td>1.0</td>\n",
       "      <td>1.0</td>\n",
       "      <td>© OpenStreetMap contributors</td>\n",
       "      <td>Open Database License</td>\n",
       "      <td>https://www.openstreetmap.org/copyright</td>\n",
       "      <td>NaN</td>\n",
       "    </tr>\n",
       "  </tbody>\n",
       "</table>\n",
       "<p>1 rows × 26 columns</p>\n",
       "</div>"
      ],
      "text/plain": [
       "   original_     original_Address original_ City original_ State  \\\n",
       "0       7500  8801 GREEN ARBOR CT    WAKE FOREST              NC   \n",
       "\n",
       "   original_ Zip_Code        lat        lon  \\\n",
       "0               27587  36.017726 -78.568723   \n",
       "\n",
       "                                           formatted  housenumber  \\\n",
       "0  Green Arbor Court, Wake County, NC 27587, Unit...          NaN   \n",
       "\n",
       "                name  ... state_code        country country_code confidence  \\\n",
       "0  Green Arbor Court  ...         NC  United States           us        0.5   \n",
       "\n",
       "  confidence_city_level confidence_street_level                   attribution  \\\n",
       "0                   1.0                     1.0  © OpenStreetMap contributors   \n",
       "\n",
       "     attribution_license                          attribution_url  suburb  \n",
       "0  Open Database License  https://www.openstreetmap.org/copyright     NaN  \n",
       "\n",
       "[1 rows x 26 columns]"
      ]
     },
     "execution_count": 11,
     "metadata": {},
     "output_type": "execute_result"
    }
   ],
   "source": [
    "# Read in and combine geocoded addresses into singular dataframe\n",
    "joined_files_2 = os.path.join(\"../resources/in_progress/addresses_retried\", \"*.csv\")\n",
    "joined_list_2 = glob.glob(joined_files_2)\n",
    "\n",
    "second_df = pd.concat(map(pd.read_csv, joined_list_2))\n",
    "second_df.head(1)"
   ]
  },
  {
   "cell_type": "markdown",
   "id": "c7e5f7e5",
   "metadata": {},
   "source": [
    "## Clean Geocoding Results"
   ]
  },
  {
   "cell_type": "code",
   "execution_count": 12,
   "id": "bc7a363e",
   "metadata": {},
   "outputs": [
    {
     "data": {
      "text/html": [
       "<div>\n",
       "<style scoped>\n",
       "    .dataframe tbody tr th:only-of-type {\n",
       "        vertical-align: middle;\n",
       "    }\n",
       "\n",
       "    .dataframe tbody tr th {\n",
       "        vertical-align: top;\n",
       "    }\n",
       "\n",
       "    .dataframe thead th {\n",
       "        text-align: right;\n",
       "    }\n",
       "</style>\n",
       "<table border=\"1\" class=\"dataframe\">\n",
       "  <thead>\n",
       "    <tr style=\"text-align: right;\">\n",
       "      <th></th>\n",
       "      <th>Address</th>\n",
       "      <th>City</th>\n",
       "      <th>Zip_Code</th>\n",
       "      <th>Latitude</th>\n",
       "      <th>Longitude</th>\n",
       "    </tr>\n",
       "  </thead>\n",
       "  <tbody>\n",
       "    <tr>\n",
       "      <th>0</th>\n",
       "      <td>1505 BASEWOOD DR</td>\n",
       "      <td>RALEIGH</td>\n",
       "      <td>27609</td>\n",
       "      <td>35.83405377100007</td>\n",
       "      <td>-78.61314566299995</td>\n",
       "    </tr>\n",
       "  </tbody>\n",
       "</table>\n",
       "</div>"
      ],
      "text/plain": [
       "            Address      City Zip_Code           Latitude           Longitude\n",
       "0  1505 BASEWOOD DR   RALEIGH    27609  35.83405377100007  -78.61314566299995"
      ]
     },
     "execution_count": 12,
     "metadata": {},
     "output_type": "execute_result"
    }
   ],
   "source": [
    "# Clean first dataframe\n",
    "first_df[[\"Address\", \"City\", \"State\", \"Zip_Code\"]] = first_df[\"Address, City, State, Zip_Code\"].str.split(\",\", expand=True)\n",
    "first_df[[\"Longitude\", \"Latitude\"]] = first_df.Coordinates.str.split(\",\", expand=True)\n",
    "first_df = first_df.drop(columns=[\"Address, City, State, Zip_Code\", \"Coordinates\", \"Unnamed: 0\", \"Match\", \"Type\", \n",
    "                                        \"Address Matched\", \"Tiger_Line_ID\", \"Side\", \"State\"])\n",
    "first_df = first_df.dropna()\n",
    "first_df = first_df[[\"Address\", \"City\", \"Zip_Code\", \"Latitude\", \"Longitude\"]]\n",
    "first_df.head(1)"
   ]
  },
  {
   "cell_type": "code",
   "execution_count": 13,
   "id": "499f3340",
   "metadata": {},
   "outputs": [
    {
     "data": {
      "text/html": [
       "<div>\n",
       "<style scoped>\n",
       "    .dataframe tbody tr th:only-of-type {\n",
       "        vertical-align: middle;\n",
       "    }\n",
       "\n",
       "    .dataframe tbody tr th {\n",
       "        vertical-align: top;\n",
       "    }\n",
       "\n",
       "    .dataframe thead th {\n",
       "        text-align: right;\n",
       "    }\n",
       "</style>\n",
       "<table border=\"1\" class=\"dataframe\">\n",
       "  <thead>\n",
       "    <tr style=\"text-align: right;\">\n",
       "      <th></th>\n",
       "      <th>Address</th>\n",
       "      <th>City</th>\n",
       "      <th>Zip_Code</th>\n",
       "      <th>Latitude</th>\n",
       "      <th>Longitude</th>\n",
       "    </tr>\n",
       "  </thead>\n",
       "  <tbody>\n",
       "    <tr>\n",
       "      <th>0</th>\n",
       "      <td>8801 GREEN ARBOR CT</td>\n",
       "      <td>WAKE FOREST</td>\n",
       "      <td>27587</td>\n",
       "      <td>36.017726</td>\n",
       "      <td>-78.568723</td>\n",
       "    </tr>\n",
       "  </tbody>\n",
       "</table>\n",
       "</div>"
      ],
      "text/plain": [
       "               Address          City  Zip_Code   Latitude  Longitude\n",
       "0  8801 GREEN ARBOR CT   WAKE FOREST     27587  36.017726 -78.568723"
      ]
     },
     "execution_count": 13,
     "metadata": {},
     "output_type": "execute_result"
    }
   ],
   "source": [
    "# Clean second dataframe\n",
    "second_df = second_df[[\"original_Address\", \"original_ City\", \"original_ Zip_Code\", \"lat\", \"lon\"]]\n",
    "second_df.rename(columns={\"original_Address\": \"Address\", \"original_ City\": \"City\", \"original_ Zip_Code\": \"Zip_Code\", \n",
    "                          \"lat\": \"Latitude\", \"lon\": \"Longitude\"}, inplace=True)\n",
    "second_df.head(1)"
   ]
  },
  {
   "cell_type": "markdown",
   "id": "3c93c2c7",
   "metadata": {},
   "source": [
    "# Merge and Clean Datasets"
   ]
  },
  {
   "cell_type": "code",
   "execution_count": 14,
   "id": "1a869fdf",
   "metadata": {},
   "outputs": [
    {
     "data": {
      "text/html": [
       "<div>\n",
       "<style scoped>\n",
       "    .dataframe tbody tr th:only-of-type {\n",
       "        vertical-align: middle;\n",
       "    }\n",
       "\n",
       "    .dataframe tbody tr th {\n",
       "        vertical-align: top;\n",
       "    }\n",
       "\n",
       "    .dataframe thead th {\n",
       "        text-align: right;\n",
       "    }\n",
       "</style>\n",
       "<table border=\"1\" class=\"dataframe\">\n",
       "  <thead>\n",
       "    <tr style=\"text-align: right;\">\n",
       "      <th></th>\n",
       "      <th>Address</th>\n",
       "      <th>City</th>\n",
       "      <th>Zip_Code</th>\n",
       "      <th>Latitude</th>\n",
       "      <th>Longitude</th>\n",
       "    </tr>\n",
       "  </thead>\n",
       "  <tbody>\n",
       "    <tr>\n",
       "      <th>0</th>\n",
       "      <td>0 ADAMS MOUNTAIN RD</td>\n",
       "      <td>RALEIGH</td>\n",
       "      <td>27614</td>\n",
       "      <td>35.952688</td>\n",
       "      <td>-78.646766</td>\n",
       "    </tr>\n",
       "    <tr>\n",
       "      <th>1</th>\n",
       "      <td>0 BAILEYWICK RD</td>\n",
       "      <td>RALEIGH</td>\n",
       "      <td>27613</td>\n",
       "      <td>35.912011</td>\n",
       "      <td>-78.698080</td>\n",
       "    </tr>\n",
       "    <tr>\n",
       "      <th>2</th>\n",
       "      <td>0 BALLENTINE DAIRY RD</td>\n",
       "      <td>FUQUAY VARINA</td>\n",
       "      <td>27526</td>\n",
       "      <td>35.612817</td>\n",
       "      <td>-78.783274</td>\n",
       "    </tr>\n",
       "    <tr>\n",
       "      <th>3</th>\n",
       "      <td>0 BASS LAKE RD</td>\n",
       "      <td>HOLLY SPRINGS</td>\n",
       "      <td>27540</td>\n",
       "      <td>35.647025</td>\n",
       "      <td>-78.818525</td>\n",
       "    </tr>\n",
       "    <tr>\n",
       "      <th>4</th>\n",
       "      <td>0 BILLY HOPKINS RD</td>\n",
       "      <td>ZEBULON</td>\n",
       "      <td>27597</td>\n",
       "      <td>35.825658</td>\n",
       "      <td>-78.315189</td>\n",
       "    </tr>\n",
       "  </tbody>\n",
       "</table>\n",
       "</div>"
      ],
      "text/plain": [
       "                 Address            City Zip_Code   Latitude  Longitude\n",
       "0    0 ADAMS MOUNTAIN RD         RALEIGH    27614  35.952688 -78.646766\n",
       "1        0 BAILEYWICK RD         RALEIGH    27613  35.912011 -78.698080\n",
       "2  0 BALLENTINE DAIRY RD   FUQUAY VARINA    27526  35.612817 -78.783274\n",
       "3         0 BASS LAKE RD   HOLLY SPRINGS    27540  35.647025 -78.818525\n",
       "4     0 BILLY HOPKINS RD         ZEBULON    27597  35.825658 -78.315189"
      ]
     },
     "execution_count": 14,
     "metadata": {},
     "output_type": "execute_result"
    }
   ],
   "source": [
    "merged_latlong = pd.concat([first_df, second_df], ignore_index=True)\n",
    "merged_latlong = merged_latlong.sort_values(by=[\"Address\"])\n",
    "merged_latlong = merged_latlong.reset_index(drop=True)\n",
    "merged_latlong[\"Latitude\"] = merged_latlong[\"Latitude\"].astype(\"float64\")\n",
    "merged_latlong[\"Longitude\"] = merged_latlong[\"Longitude\"].astype(\"float64\")\n",
    "merged_latlong.head()"
   ]
  },
  {
   "cell_type": "markdown",
   "id": "b6be4ad8",
   "metadata": {},
   "source": [
    "## Check for and remove incorrect values"
   ]
  },
  {
   "cell_type": "code",
   "execution_count": 15,
   "id": "d4cc575b",
   "metadata": {},
   "outputs": [],
   "source": [
    "import geopandas as gpd\n",
    "import shapely\n",
    "import warnings\n",
    "from shapely.errors import ShapelyDeprecationWarning\n",
    "warnings.filterwarnings(\"ignore\", category=ShapelyDeprecationWarning)\n",
    "\n",
    "# Change latitude/longitude values to geometry points\n",
    "merged_latlong[\"Geometry\"] = gpd.points_from_xy(merged_latlong.Longitude, \n",
    "                                                merged_latlong.Latitude, \n",
    "                                                crs=\"EPSG:4326\")\n",
    "\n",
    "# Create new geodataframe from data\n",
    "geo_df = gpd.GeoDataFrame(merged_latlong, \n",
    "                          geometry=merged_latlong.Geometry, \n",
    "                          crs=\"EPSG:4326\")\n",
    "geo_df = geo_df.drop(columns=[\"Geometry\"])\n",
    "\n",
    "# Import Wake County boundaries\n",
    "# Boundary values from https://data.wakegov.com/datasets/Wake::wake-county-line/explore\n",
    "wake = gpd.read_file(\"../resources/original/Wake_County_Line.geojson\")"
   ]
  },
  {
   "cell_type": "code",
   "execution_count": 16,
   "id": "bc2257a1",
   "metadata": {},
   "outputs": [
    {
     "data": {
      "text/html": [
       "<div>\n",
       "<style scoped>\n",
       "    .dataframe tbody tr th:only-of-type {\n",
       "        vertical-align: middle;\n",
       "    }\n",
       "\n",
       "    .dataframe tbody tr th {\n",
       "        vertical-align: top;\n",
       "    }\n",
       "\n",
       "    .dataframe thead th {\n",
       "        text-align: right;\n",
       "    }\n",
       "</style>\n",
       "<table border=\"1\" class=\"dataframe\">\n",
       "  <thead>\n",
       "    <tr style=\"text-align: right;\">\n",
       "      <th></th>\n",
       "      <th>Address</th>\n",
       "      <th>City</th>\n",
       "      <th>Zip_Code</th>\n",
       "      <th>Latitude</th>\n",
       "      <th>Longitude</th>\n",
       "      <th>geometry</th>\n",
       "      <th>In_Wake</th>\n",
       "    </tr>\n",
       "  </thead>\n",
       "  <tbody>\n",
       "    <tr>\n",
       "      <th>0</th>\n",
       "      <td>0 ADAMS MOUNTAIN RD</td>\n",
       "      <td>RALEIGH</td>\n",
       "      <td>27614</td>\n",
       "      <td>35.952688</td>\n",
       "      <td>-78.646766</td>\n",
       "      <td>POINT (-78.64677 35.95269)</td>\n",
       "      <td>True</td>\n",
       "    </tr>\n",
       "    <tr>\n",
       "      <th>1</th>\n",
       "      <td>0 BAILEYWICK RD</td>\n",
       "      <td>RALEIGH</td>\n",
       "      <td>27613</td>\n",
       "      <td>35.912011</td>\n",
       "      <td>-78.698080</td>\n",
       "      <td>POINT (-78.69808 35.91201)</td>\n",
       "      <td>True</td>\n",
       "    </tr>\n",
       "    <tr>\n",
       "      <th>2</th>\n",
       "      <td>0 BALLENTINE DAIRY RD</td>\n",
       "      <td>FUQUAY VARINA</td>\n",
       "      <td>27526</td>\n",
       "      <td>35.612817</td>\n",
       "      <td>-78.783274</td>\n",
       "      <td>POINT (-78.78327 35.61282)</td>\n",
       "      <td>True</td>\n",
       "    </tr>\n",
       "    <tr>\n",
       "      <th>3</th>\n",
       "      <td>0 BASS LAKE RD</td>\n",
       "      <td>HOLLY SPRINGS</td>\n",
       "      <td>27540</td>\n",
       "      <td>35.647025</td>\n",
       "      <td>-78.818525</td>\n",
       "      <td>POINT (-78.81852 35.64702)</td>\n",
       "      <td>True</td>\n",
       "    </tr>\n",
       "    <tr>\n",
       "      <th>4</th>\n",
       "      <td>0 BILLY HOPKINS RD</td>\n",
       "      <td>ZEBULON</td>\n",
       "      <td>27597</td>\n",
       "      <td>35.825658</td>\n",
       "      <td>-78.315189</td>\n",
       "      <td>POINT (-78.31519 35.82566)</td>\n",
       "      <td>True</td>\n",
       "    </tr>\n",
       "  </tbody>\n",
       "</table>\n",
       "</div>"
      ],
      "text/plain": [
       "                 Address            City Zip_Code   Latitude  Longitude  \\\n",
       "0    0 ADAMS MOUNTAIN RD         RALEIGH    27614  35.952688 -78.646766   \n",
       "1        0 BAILEYWICK RD         RALEIGH    27613  35.912011 -78.698080   \n",
       "2  0 BALLENTINE DAIRY RD   FUQUAY VARINA    27526  35.612817 -78.783274   \n",
       "3         0 BASS LAKE RD   HOLLY SPRINGS    27540  35.647025 -78.818525   \n",
       "4     0 BILLY HOPKINS RD         ZEBULON    27597  35.825658 -78.315189   \n",
       "\n",
       "                     geometry  In_Wake  \n",
       "0  POINT (-78.64677 35.95269)     True  \n",
       "1  POINT (-78.69808 35.91201)     True  \n",
       "2  POINT (-78.78327 35.61282)     True  \n",
       "3  POINT (-78.81852 35.64702)     True  \n",
       "4  POINT (-78.31519 35.82566)     True  "
      ]
     },
     "execution_count": 16,
     "metadata": {},
     "output_type": "execute_result"
    }
   ],
   "source": [
    "# Check individual coordinates against Wake County polygon\n",
    "geo_df[\"In_Wake\"] = geo_df.within(wake.at[0, \"geometry\"])\n",
    "\n",
    "# Remove rows unable to be geolocated\n",
    "geo_df = geo_df.loc[(geo_df[\"In_Wake\"] == True)]\n",
    "geo_df.head()"
   ]
  },
  {
   "cell_type": "markdown",
   "id": "2f72c908",
   "metadata": {},
   "source": [
    "# Update and export housing data"
   ]
  },
  {
   "cell_type": "code",
   "execution_count": 17,
   "id": "c86b94e6",
   "metadata": {},
   "outputs": [
    {
     "data": {
      "text/html": [
       "<div>\n",
       "<style scoped>\n",
       "    .dataframe tbody tr th:only-of-type {\n",
       "        vertical-align: middle;\n",
       "    }\n",
       "\n",
       "    .dataframe tbody tr th {\n",
       "        vertical-align: top;\n",
       "    }\n",
       "\n",
       "    .dataframe thead th {\n",
       "        text-align: right;\n",
       "    }\n",
       "</style>\n",
       "<table border=\"1\" class=\"dataframe\">\n",
       "  <thead>\n",
       "    <tr style=\"text-align: right;\">\n",
       "      <th></th>\n",
       "      <th>Total_Value</th>\n",
       "      <th>Address</th>\n",
       "      <th>City</th>\n",
       "      <th>Zip_Code</th>\n",
       "      <th>Planning_Jurisdiction</th>\n",
       "      <th>Zoning</th>\n",
       "      <th>Acreage</th>\n",
       "      <th>Sqft</th>\n",
       "      <th>Age</th>\n",
       "      <th>Bath</th>\n",
       "      <th>Remodel_Addition</th>\n",
       "      <th>Style</th>\n",
       "      <th>Latitude</th>\n",
       "      <th>Longitude</th>\n",
       "    </tr>\n",
       "  </thead>\n",
       "  <tbody>\n",
       "    <tr>\n",
       "      <th>0</th>\n",
       "      <td>249321</td>\n",
       "      <td>2457 BERTIE DR</td>\n",
       "      <td>RALEIGH</td>\n",
       "      <td>27610</td>\n",
       "      <td>9</td>\n",
       "      <td>R-4</td>\n",
       "      <td>0.21</td>\n",
       "      <td>1828</td>\n",
       "      <td>59</td>\n",
       "      <td>2.0</td>\n",
       "      <td>0</td>\n",
       "      <td>8</td>\n",
       "      <td>35.785561</td>\n",
       "      <td>-78.600881</td>\n",
       "    </tr>\n",
       "    <tr>\n",
       "      <th>1</th>\n",
       "      <td>159933</td>\n",
       "      <td>2848 PROVIDENCE RD</td>\n",
       "      <td>RALEIGH</td>\n",
       "      <td>27610</td>\n",
       "      <td>9</td>\n",
       "      <td>R-4</td>\n",
       "      <td>0.46</td>\n",
       "      <td>1240</td>\n",
       "      <td>53</td>\n",
       "      <td>1.0</td>\n",
       "      <td>0</td>\n",
       "      <td>0</td>\n",
       "      <td>35.743016</td>\n",
       "      <td>-78.573618</td>\n",
       "    </tr>\n",
       "    <tr>\n",
       "      <th>2</th>\n",
       "      <td>222624</td>\n",
       "      <td>409 S LAKESIDE DR</td>\n",
       "      <td>RALEIGH</td>\n",
       "      <td>27606</td>\n",
       "      <td>9</td>\n",
       "      <td>R-4</td>\n",
       "      <td>0.43</td>\n",
       "      <td>1037</td>\n",
       "      <td>24</td>\n",
       "      <td>2.0</td>\n",
       "      <td>0</td>\n",
       "      <td>0</td>\n",
       "      <td>35.774212</td>\n",
       "      <td>-78.728900</td>\n",
       "    </tr>\n",
       "    <tr>\n",
       "      <th>3</th>\n",
       "      <td>150723</td>\n",
       "      <td>540 MARSHBURN RD</td>\n",
       "      <td>WENDELL</td>\n",
       "      <td>27591</td>\n",
       "      <td>13</td>\n",
       "      <td>R3</td>\n",
       "      <td>0.46</td>\n",
       "      <td>2261</td>\n",
       "      <td>123</td>\n",
       "      <td>2.0</td>\n",
       "      <td>0</td>\n",
       "      <td>0</td>\n",
       "      <td>35.787242</td>\n",
       "      <td>-78.374324</td>\n",
       "    </tr>\n",
       "    <tr>\n",
       "      <th>4</th>\n",
       "      <td>140801</td>\n",
       "      <td>605 WOODLAND RD</td>\n",
       "      <td>RALEIGH</td>\n",
       "      <td>27603</td>\n",
       "      <td>5</td>\n",
       "      <td>R2</td>\n",
       "      <td>0.51</td>\n",
       "      <td>996</td>\n",
       "      <td>67</td>\n",
       "      <td>1.0</td>\n",
       "      <td>0</td>\n",
       "      <td>0</td>\n",
       "      <td>35.701073</td>\n",
       "      <td>-78.645900</td>\n",
       "    </tr>\n",
       "  </tbody>\n",
       "</table>\n",
       "</div>"
      ],
      "text/plain": [
       "   Total_Value             Address     City  Zip_Code  Planning_Jurisdiction  \\\n",
       "0       249321      2457 BERTIE DR  RALEIGH     27610                      9   \n",
       "1       159933  2848 PROVIDENCE RD  RALEIGH     27610                      9   \n",
       "2       222624   409 S LAKESIDE DR  RALEIGH     27606                      9   \n",
       "3       150723    540 MARSHBURN RD  WENDELL     27591                     13   \n",
       "4       140801     605 WOODLAND RD  RALEIGH     27603                      5   \n",
       "\n",
       "  Zoning  Acreage  Sqft  Age  Bath  Remodel_Addition  Style   Latitude  \\\n",
       "0    R-4     0.21  1828   59   2.0                 0      8  35.785561   \n",
       "1    R-4     0.46  1240   53   1.0                 0      0  35.743016   \n",
       "2    R-4     0.43  1037   24   2.0                 0      0  35.774212   \n",
       "3     R3     0.46  2261  123   2.0                 0      0  35.787242   \n",
       "4     R2     0.51   996   67   1.0                 0      0  35.701073   \n",
       "\n",
       "   Longitude  \n",
       "0 -78.600881  \n",
       "1 -78.573618  \n",
       "2 -78.728900  \n",
       "3 -78.374324  \n",
       "4 -78.645900  "
      ]
     },
     "execution_count": 17,
     "metadata": {},
     "output_type": "execute_result"
    }
   ],
   "source": [
    "# Update housing data to only include geolocated addresses, add latitude and longitude, and export to CSV\n",
    "updated_housing_df = housing_df.merge(geo_df[[\"Address\", \"Latitude\", \"Longitude\"]], on=\"Address\")\n",
    "updated_housing_df.to_csv(\"../resources/clean/housing_data_with_coordinates.csv\", index=False)\n",
    "updated_housing_df.head()"
   ]
  },
  {
   "cell_type": "markdown",
   "id": "943aff7c",
   "metadata": {},
   "source": [
    "# Export Noise Starter CSV for QGIS"
   ]
  },
  {
   "cell_type": "code",
   "execution_count": 18,
   "id": "9582aa73",
   "metadata": {},
   "outputs": [
    {
     "data": {
      "text/html": [
       "<div>\n",
       "<style scoped>\n",
       "    .dataframe tbody tr th:only-of-type {\n",
       "        vertical-align: middle;\n",
       "    }\n",
       "\n",
       "    .dataframe tbody tr th {\n",
       "        vertical-align: top;\n",
       "    }\n",
       "\n",
       "    .dataframe thead th {\n",
       "        text-align: right;\n",
       "    }\n",
       "</style>\n",
       "<table border=\"1\" class=\"dataframe\">\n",
       "  <thead>\n",
       "    <tr style=\"text-align: right;\">\n",
       "      <th></th>\n",
       "      <th>Address</th>\n",
       "      <th>City</th>\n",
       "      <th>Zip_Code</th>\n",
       "      <th>Latitude</th>\n",
       "      <th>Longitude</th>\n",
       "    </tr>\n",
       "  </thead>\n",
       "  <tbody>\n",
       "    <tr>\n",
       "      <th>0</th>\n",
       "      <td>0 ADAMS MOUNTAIN RD</td>\n",
       "      <td>RALEIGH</td>\n",
       "      <td>27614</td>\n",
       "      <td>35.952688</td>\n",
       "      <td>-78.646766</td>\n",
       "    </tr>\n",
       "  </tbody>\n",
       "</table>\n",
       "</div>"
      ],
      "text/plain": [
       "               Address      City Zip_Code   Latitude  Longitude\n",
       "0  0 ADAMS MOUNTAIN RD   RALEIGH    27614  35.952688 -78.646766"
      ]
     },
     "execution_count": 18,
     "metadata": {},
     "output_type": "execute_result"
    }
   ],
   "source": [
    "geo_df = geo_df.drop(columns=[\"geometry\", \"In_Wake\"])\n",
    "geo_df.head(1)"
   ]
  },
  {
   "cell_type": "code",
   "execution_count": 20,
   "id": "662eb993",
   "metadata": {},
   "outputs": [],
   "source": [
    "# Send latitude and longitude values to CSV for QGIS work (add decibel levels via map rasters)\n",
    "geo_df.to_csv(\"../resources/in_progress/geocoded_addresses(noise_starter).csv\", index=False)"
   ]
  }
 ],
 "metadata": {
  "kernelspec": {
   "display_name": "PythonData",
   "language": "python",
   "name": "pythondata"
  },
  "language_info": {
   "codemirror_mode": {
    "name": "ipython",
    "version": 3
   },
   "file_extension": ".py",
   "mimetype": "text/x-python",
   "name": "python",
   "nbconvert_exporter": "python",
   "pygments_lexer": "ipython3",
   "version": "3.7.15"
  }
 },
 "nbformat": 4,
 "nbformat_minor": 5
}
