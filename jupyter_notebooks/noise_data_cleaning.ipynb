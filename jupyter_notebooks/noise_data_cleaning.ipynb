{
 "cells": [
  {
   "cell_type": "markdown",
   "id": "06b522c6",
   "metadata": {},
   "source": [
    "<b>Create Sidebar Navigation - best viewed in full screen</b>"
   ]
  },
  {
   "cell_type": "code",
   "execution_count": 1,
   "id": "a2b11105",
   "metadata": {},
   "outputs": [
    {
     "data": {
      "application/javascript": [
       "$('<div id=\"toc\"></div>').css({position: 'fixed', top: '120px', left: 0}).appendTo(document.body);\n",
       "$.getScript('https://kmahelona.github.io/ipython_notebook_goodies/ipython_notebook_toc.js');\n"
      ],
      "text/plain": [
       "<IPython.core.display.Javascript object>"
      ]
     },
     "metadata": {},
     "output_type": "display_data"
    }
   ],
   "source": [
    "%%javascript\n",
    "$('<div id=\"toc\"></div>').css({position: 'fixed', top: '120px', left: 0}).appendTo(document.body);\n",
    "$.getScript('https://kmahelona.github.io/ipython_notebook_goodies/ipython_notebook_toc.js');"
   ]
  },
  {
   "cell_type": "markdown",
   "id": "7c82248b",
   "metadata": {},
   "source": [
    "# Read In Data"
   ]
  },
  {
   "cell_type": "markdown",
   "id": "8442adfe",
   "metadata": {},
   "source": [
    "## Notes On Decibel Levels\n",
    "- The noise raster used for applying non-standard decibel levels was downloaded from https://www.bts.gov/geospatial/national-transportation-noise-map.\n",
    "- According the the documentation for the above raster (located at https://www.bts.gov/sites/bts.dot.gov/files/docs/explore-topics-and-geography/geography/203606/btsnoisemappingtooldocumentationmarch2016.pdf), the null values in the dataset are assumed to be roughly 35dB. For reference, 20dB is about the volume level of rustling leaves. Because of this, null values will be replaced with 35.0.\n",
    "- The data was created over the course of 24 hours to show the approximate average decibel levels with default temperature and humidity (68°F, at 50% relative humidity), and as such is not a representation of exact decibel levels."
   ]
  },
  {
   "cell_type": "code",
   "execution_count": 2,
   "id": "284e639f",
   "metadata": {},
   "outputs": [],
   "source": [
    "# Import dependencies\n",
    "import pandas as pd\n",
    "import matplotlib.pyplot as plt\n",
    "import numpy as np"
   ]
  },
  {
   "cell_type": "code",
   "execution_count": 3,
   "id": "d6c26d8c",
   "metadata": {},
   "outputs": [
    {
     "data": {
      "text/html": [
       "<div>\n",
       "<style scoped>\n",
       "    .dataframe tbody tr th:only-of-type {\n",
       "        vertical-align: middle;\n",
       "    }\n",
       "\n",
       "    .dataframe tbody tr th {\n",
       "        vertical-align: top;\n",
       "    }\n",
       "\n",
       "    .dataframe thead th {\n",
       "        text-align: right;\n",
       "    }\n",
       "</style>\n",
       "<table border=\"1\" class=\"dataframe\">\n",
       "  <thead>\n",
       "    <tr style=\"text-align: right;\">\n",
       "      <th></th>\n",
       "      <th>Address</th>\n",
       "      <th>City</th>\n",
       "      <th>Zip_Code</th>\n",
       "      <th>Latitude</th>\n",
       "      <th>Longitude</th>\n",
       "      <th>Decibel</th>\n",
       "    </tr>\n",
       "  </thead>\n",
       "  <tbody>\n",
       "    <tr>\n",
       "      <th>0</th>\n",
       "      <td>0 ADAMS MOUNTAIN RD</td>\n",
       "      <td>RALEIGH</td>\n",
       "      <td>27614</td>\n",
       "      <td>35.952688</td>\n",
       "      <td>-78.646766</td>\n",
       "      <td>NaN</td>\n",
       "    </tr>\n",
       "    <tr>\n",
       "      <th>1</th>\n",
       "      <td>0 BAILEYWICK RD</td>\n",
       "      <td>RALEIGH</td>\n",
       "      <td>27613</td>\n",
       "      <td>35.912011</td>\n",
       "      <td>-78.698080</td>\n",
       "      <td>NaN</td>\n",
       "    </tr>\n",
       "    <tr>\n",
       "      <th>2</th>\n",
       "      <td>0 BALLENTINE DAIRY RD</td>\n",
       "      <td>FUQUAY VARINA</td>\n",
       "      <td>27526</td>\n",
       "      <td>35.612817</td>\n",
       "      <td>-78.783274</td>\n",
       "      <td>NaN</td>\n",
       "    </tr>\n",
       "    <tr>\n",
       "      <th>3</th>\n",
       "      <td>0 BASS LAKE RD</td>\n",
       "      <td>HOLLY SPRINGS</td>\n",
       "      <td>27540</td>\n",
       "      <td>35.647025</td>\n",
       "      <td>-78.818525</td>\n",
       "      <td>NaN</td>\n",
       "    </tr>\n",
       "    <tr>\n",
       "      <th>4</th>\n",
       "      <td>0 BILLY HOPKINS RD</td>\n",
       "      <td>ZEBULON</td>\n",
       "      <td>27597</td>\n",
       "      <td>35.825658</td>\n",
       "      <td>-78.315189</td>\n",
       "      <td>61.034618</td>\n",
       "    </tr>\n",
       "  </tbody>\n",
       "</table>\n",
       "</div>"
      ],
      "text/plain": [
       "                 Address            City  Zip_Code   Latitude  Longitude  \\\n",
       "0    0 ADAMS MOUNTAIN RD         RALEIGH     27614  35.952688 -78.646766   \n",
       "1        0 BAILEYWICK RD         RALEIGH     27613  35.912011 -78.698080   \n",
       "2  0 BALLENTINE DAIRY RD   FUQUAY VARINA     27526  35.612817 -78.783274   \n",
       "3         0 BASS LAKE RD   HOLLY SPRINGS     27540  35.647025 -78.818525   \n",
       "4     0 BILLY HOPKINS RD         ZEBULON     27597  35.825658 -78.315189   \n",
       "\n",
       "     Decibel  \n",
       "0        NaN  \n",
       "1        NaN  \n",
       "2        NaN  \n",
       "3        NaN  \n",
       "4  61.034618  "
      ]
     },
     "execution_count": 3,
     "metadata": {},
     "output_type": "execute_result"
    }
   ],
   "source": [
    "# Read in CSV file\n",
    "noise_df = pd.read_csv(\"../resources/in_progress/geocoded_addresses_with_decibels.csv\")\n",
    "\n",
    "# Rename decibel column (QGIS automatically adds a \"1\" to the end of the column name)\n",
    "noise_df = noise_df.rename(columns={\"decibel1\": \"Decibel\"})\n",
    "\n",
    "noise_df.head()"
   ]
  },
  {
   "cell_type": "markdown",
   "id": "9a6f7aaf",
   "metadata": {},
   "source": [
    "# Clean Data"
   ]
  },
  {
   "cell_type": "code",
   "execution_count": 4,
   "id": "2ba4d17c",
   "metadata": {},
   "outputs": [
    {
     "data": {
      "text/html": [
       "<div>\n",
       "<style scoped>\n",
       "    .dataframe tbody tr th:only-of-type {\n",
       "        vertical-align: middle;\n",
       "    }\n",
       "\n",
       "    .dataframe tbody tr th {\n",
       "        vertical-align: top;\n",
       "    }\n",
       "\n",
       "    .dataframe thead th {\n",
       "        text-align: right;\n",
       "    }\n",
       "</style>\n",
       "<table border=\"1\" class=\"dataframe\">\n",
       "  <thead>\n",
       "    <tr style=\"text-align: right;\">\n",
       "      <th></th>\n",
       "      <th>Address</th>\n",
       "      <th>City</th>\n",
       "      <th>Zip_Code</th>\n",
       "      <th>Latitude</th>\n",
       "      <th>Longitude</th>\n",
       "      <th>Decibel</th>\n",
       "    </tr>\n",
       "  </thead>\n",
       "  <tbody>\n",
       "    <tr>\n",
       "      <th>0</th>\n",
       "      <td>0 ADAMS MOUNTAIN RD</td>\n",
       "      <td>RALEIGH</td>\n",
       "      <td>27614</td>\n",
       "      <td>35.952688</td>\n",
       "      <td>-78.646766</td>\n",
       "      <td>35.000000</td>\n",
       "    </tr>\n",
       "    <tr>\n",
       "      <th>1</th>\n",
       "      <td>0 BAILEYWICK RD</td>\n",
       "      <td>RALEIGH</td>\n",
       "      <td>27613</td>\n",
       "      <td>35.912011</td>\n",
       "      <td>-78.698080</td>\n",
       "      <td>35.000000</td>\n",
       "    </tr>\n",
       "    <tr>\n",
       "      <th>2</th>\n",
       "      <td>0 BALLENTINE DAIRY RD</td>\n",
       "      <td>FUQUAY VARINA</td>\n",
       "      <td>27526</td>\n",
       "      <td>35.612817</td>\n",
       "      <td>-78.783274</td>\n",
       "      <td>35.000000</td>\n",
       "    </tr>\n",
       "    <tr>\n",
       "      <th>3</th>\n",
       "      <td>0 BASS LAKE RD</td>\n",
       "      <td>HOLLY SPRINGS</td>\n",
       "      <td>27540</td>\n",
       "      <td>35.647025</td>\n",
       "      <td>-78.818525</td>\n",
       "      <td>35.000000</td>\n",
       "    </tr>\n",
       "    <tr>\n",
       "      <th>4</th>\n",
       "      <td>0 BILLY HOPKINS RD</td>\n",
       "      <td>ZEBULON</td>\n",
       "      <td>27597</td>\n",
       "      <td>35.825658</td>\n",
       "      <td>-78.315189</td>\n",
       "      <td>61.034618</td>\n",
       "    </tr>\n",
       "  </tbody>\n",
       "</table>\n",
       "</div>"
      ],
      "text/plain": [
       "                 Address            City  Zip_Code   Latitude  Longitude  \\\n",
       "0    0 ADAMS MOUNTAIN RD         RALEIGH     27614  35.952688 -78.646766   \n",
       "1        0 BAILEYWICK RD         RALEIGH     27613  35.912011 -78.698080   \n",
       "2  0 BALLENTINE DAIRY RD   FUQUAY VARINA     27526  35.612817 -78.783274   \n",
       "3         0 BASS LAKE RD   HOLLY SPRINGS     27540  35.647025 -78.818525   \n",
       "4     0 BILLY HOPKINS RD         ZEBULON     27597  35.825658 -78.315189   \n",
       "\n",
       "     Decibel  \n",
       "0  35.000000  \n",
       "1  35.000000  \n",
       "2  35.000000  \n",
       "3  35.000000  \n",
       "4  61.034618  "
      ]
     },
     "execution_count": 4,
     "metadata": {},
     "output_type": "execute_result"
    }
   ],
   "source": [
    "# Replace null values with 35dB\n",
    "noise_df[\"Decibel\"] = noise_df[\"Decibel\"].fillna(35.0)\n",
    "noise_df.head()"
   ]
  },
  {
   "cell_type": "code",
   "execution_count": 5,
   "id": "153cce1f",
   "metadata": {},
   "outputs": [
    {
     "name": "stdout",
     "output_type": "stream",
     "text": [
      "<class 'pandas.core.frame.DataFrame'>\n",
      "RangeIndex: 241769 entries, 0 to 241768\n",
      "Data columns (total 6 columns):\n",
      " #   Column     Non-Null Count   Dtype  \n",
      "---  ------     --------------   -----  \n",
      " 0   Address    241769 non-null  object \n",
      " 1   City       241769 non-null  object \n",
      " 2   Zip_Code   241769 non-null  int64  \n",
      " 3   Latitude   241769 non-null  float64\n",
      " 4   Longitude  241769 non-null  float64\n",
      " 5   Decibel    241769 non-null  float64\n",
      "dtypes: float64(3), int64(1), object(2)\n",
      "memory usage: 11.1+ MB\n"
     ]
    }
   ],
   "source": [
    "# Check for remaining null values\n",
    "noise_df.info()"
   ]
  },
  {
   "cell_type": "markdown",
   "id": "76268290",
   "metadata": {},
   "source": [
    "# Create Decibel Scale"
   ]
  },
  {
   "cell_type": "code",
   "execution_count": 6,
   "id": "4b48f796",
   "metadata": {},
   "outputs": [
    {
     "data": {
      "text/plain": [
       "count    241769.000000\n",
       "mean         37.263343\n",
       "std           6.216446\n",
       "min          35.000000\n",
       "25%          35.000000\n",
       "50%          35.000000\n",
       "75%          35.000000\n",
       "max          78.927071\n",
       "Name: Decibel, dtype: float64"
      ]
     },
     "execution_count": 6,
     "metadata": {},
     "output_type": "execute_result"
    }
   ],
   "source": [
    "# See statistics of decibel column\n",
    "noise_df[\"Decibel\"].describe()"
   ]
  },
  {
   "cell_type": "markdown",
   "id": "83c5b7e8",
   "metadata": {},
   "source": [
    "## Visualize data above 35dB"
   ]
  },
  {
   "cell_type": "code",
   "execution_count": 7,
   "id": "5546a45b",
   "metadata": {},
   "outputs": [
    {
     "data": {
      "text/html": [
       "<div>\n",
       "<style scoped>\n",
       "    .dataframe tbody tr th:only-of-type {\n",
       "        vertical-align: middle;\n",
       "    }\n",
       "\n",
       "    .dataframe tbody tr th {\n",
       "        vertical-align: top;\n",
       "    }\n",
       "\n",
       "    .dataframe thead th {\n",
       "        text-align: right;\n",
       "    }\n",
       "</style>\n",
       "<table border=\"1\" class=\"dataframe\">\n",
       "  <thead>\n",
       "    <tr style=\"text-align: right;\">\n",
       "      <th></th>\n",
       "      <th>Decibel</th>\n",
       "    </tr>\n",
       "  </thead>\n",
       "  <tbody>\n",
       "    <tr>\n",
       "      <th>count</th>\n",
       "      <td>31603.000000</td>\n",
       "    </tr>\n",
       "    <tr>\n",
       "      <th>mean</th>\n",
       "      <td>52.315007</td>\n",
       "    </tr>\n",
       "    <tr>\n",
       "      <th>std</th>\n",
       "      <td>5.917415</td>\n",
       "    </tr>\n",
       "    <tr>\n",
       "      <th>min</th>\n",
       "      <td>45.000072</td>\n",
       "    </tr>\n",
       "    <tr>\n",
       "      <th>25%</th>\n",
       "      <td>47.306164</td>\n",
       "    </tr>\n",
       "    <tr>\n",
       "      <th>50%</th>\n",
       "      <td>50.890648</td>\n",
       "    </tr>\n",
       "    <tr>\n",
       "      <th>75%</th>\n",
       "      <td>56.223175</td>\n",
       "    </tr>\n",
       "    <tr>\n",
       "      <th>max</th>\n",
       "      <td>78.927071</td>\n",
       "    </tr>\n",
       "  </tbody>\n",
       "</table>\n",
       "</div>"
      ],
      "text/plain": [
       "            Decibel\n",
       "count  31603.000000\n",
       "mean      52.315007\n",
       "std        5.917415\n",
       "min       45.000072\n",
       "25%       47.306164\n",
       "50%       50.890648\n",
       "75%       56.223175\n",
       "max       78.927071"
      ]
     },
     "execution_count": 7,
     "metadata": {},
     "output_type": "execute_result"
    }
   ],
   "source": [
    "# Create dataframe of noise values above 35dB to better see distribution of higher decibel levels\n",
    "above35_df = pd.DataFrame(noise_df[\"Decibel\"])\n",
    "above35_df = above35_df.loc[above35_df[\"Decibel\"] > 35.0]\n",
    "above35_df.describe()"
   ]
  },
  {
   "cell_type": "code",
   "execution_count": 8,
   "id": "4df9f60a",
   "metadata": {},
   "outputs": [
    {
     "data": {
      "image/png": "[encoded data removed]",
      "text/plain": [
       "<Figure size 640x480 with 1 Axes>"
      ]
     },
     "metadata": {},
     "output_type": "display_data"
    }
   ],
   "source": [
    "# Plot the values to visualize the distribution\n",
    "a35plot = above35_df.boxplot()\n",
    "plt.show()"
   ]
  },
  {
   "cell_type": "markdown",
   "id": "68d61b7f",
   "metadata": {},
   "source": [
    "## Create Decibel Scale Column\n",
    "- 40dB is roughly the noise from light rain\n",
    "- 50dB is roughly the noise from moderate rain\n",
    "- 60dB is roughly the noise from normal conversation\n",
    "- 70dB is roughly the noise from a busy office\n",
    "- 80dB is roughly the noise from a lawn mower"
   ]
  },
  {
   "cell_type": "code",
   "execution_count": 9,
   "id": "737f30a7",
   "metadata": {},
   "outputs": [
    {
     "data": {
      "text/plain": [
       "1    210166\n",
       "3     12915\n",
       "2      8461\n",
       "4      5560\n",
       "5      4667\n",
       "Name: Decibel_Scale, dtype: int64"
      ]
     },
     "execution_count": 9,
     "metadata": {},
     "output_type": "execute_result"
    }
   ],
   "source": [
    "# Create decibel scale column\n",
    "noise_df[\"Decibel_Scale\"] = np.where(noise_df[\"Decibel\"] == 35.0, 1,\n",
    "                                    np.where(noise_df[\"Decibel\"] <= 47.5, 2,\n",
    "                                    np.where(noise_df[\"Decibel\"] <= 54, 3,\n",
    "                                    np.where(noise_df[\"Decibel\"] <= 60.0, 4, 5))))\n",
    "noise_df[\"Decibel_Scale\"].value_counts()"
   ]
  },
  {
   "cell_type": "markdown",
   "id": "833ed94d",
   "metadata": {},
   "source": [
    "# Export to CSV"
   ]
  },
  {
   "cell_type": "code",
   "execution_count": 10,
   "id": "a54b1250",
   "metadata": {},
   "outputs": [],
   "source": [
    "# Export to csv file\n",
    "noise_df.to_csv(\"../resources/clean/noise_data_clean.csv\", index=False)"
   ]
  }
 ],
 "metadata": {
  "kernelspec": {
   "display_name": "PythonData",
   "language": "python",
   "name": "pythondata"
  },
  "language_info": {
   "codemirror_mode": {
    "name": "ipython",
    "version": 3
   },
   "file_extension": ".py",
   "mimetype": "text/x-python",
   "name": "python",
   "nbconvert_exporter": "python",
   "pygments_lexer": "ipython3",
   "version": "3.7.15"
  }
 },
 "nbformat": 4,
 "nbformat_minor": 5
}
