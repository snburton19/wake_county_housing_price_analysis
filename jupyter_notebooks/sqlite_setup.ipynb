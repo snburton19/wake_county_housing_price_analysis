{
 "cells": [
  {
   "cell_type": "markdown",
   "id": "5224e954",
   "metadata": {},
   "source": [
    "<b>Create Sidebar Navigation - best viewed in full screen</b>"
   ]
  },
  {
   "cell_type": "code",
   "execution_count": 1,
   "id": "08e86d41",
   "metadata": {},
   "outputs": [
    {
     "data": {
      "application/javascript": [
       "$('<div id=\"toc\"></div>').css({position: 'fixed', top: '120px', left: 0}).appendTo(document.body);\n",
       "$.getScript('https://kmahelona.github.io/ipython_notebook_goodies/ipython_notebook_toc.js');\n"
      ],
      "text/plain": [
       "<IPython.core.display.Javascript object>"
      ]
     },
     "metadata": {},
     "output_type": "display_data"
    }
   ],
   "source": [
    "%%javascript\n",
    "$('<div id=\"toc\"></div>').css({position: 'fixed', top: '120px', left: 0}).appendTo(document.body);\n",
    "$.getScript('https://kmahelona.github.io/ipython_notebook_goodies/ipython_notebook_toc.js');"
   ]
  },
  {
   "cell_type": "markdown",
   "id": "aede4975",
   "metadata": {},
   "source": [
    "# Set up SQLite"
   ]
  },
  {
   "cell_type": "code",
   "execution_count": 2,
   "id": "d0b2a11c",
   "metadata": {},
   "outputs": [],
   "source": [
    "# Import dependencies\n",
    "import sqlite3"
   ]
  },
  {
   "cell_type": "code",
   "execution_count": 3,
   "id": "1681dd45",
   "metadata": {},
   "outputs": [],
   "source": [
    "## Define connection and cursor \n",
    "conn = sqlite3.connect(\"../sqlite/wake_housing_database.db\")\n",
    "c = conn.cursor()"
   ]
  },
  {
   "cell_type": "markdown",
   "id": "1765f5ec",
   "metadata": {},
   "source": [
    "## Create Tables"
   ]
  },
  {
   "cell_type": "code",
   "execution_count": 4,
   "id": "e4a877f9",
   "metadata": {},
   "outputs": [
    {
     "data": {
      "text/plain": [
       "<sqlite3.Cursor at 0x1444f793730>"
      ]
     },
     "execution_count": 4,
     "metadata": {},
     "output_type": "execute_result"
    }
   ],
   "source": [
    "# Erase previous data (start with a clean slate)\n",
    "c.execute(\"DROP TABLE IF EXISTS housing;\")\n",
    "c.execute(\"DROP TABLE IF EXISTS crime;\")\n",
    "c.execute(\"DROP TABLE IF EXISTS noise;\")"
   ]
  },
  {
   "cell_type": "code",
   "execution_count": 5,
   "id": "1c840b09",
   "metadata": {},
   "outputs": [
    {
     "name": "stdout",
     "output_type": "stream",
     "text": [
      "[('combined_data',)]\n"
     ]
    }
   ],
   "source": [
    "# Verify there are no tables\n",
    "c.execute(\"SELECT name FROM sqlite_master WHERE type='table';\")\n",
    "print(c.fetchall())"
   ]
  },
  {
   "cell_type": "code",
   "execution_count": 6,
   "id": "bd3b7fdb",
   "metadata": {},
   "outputs": [
    {
     "data": {
      "text/plain": [
       "<sqlite3.Cursor at 0x1444f793730>"
      ]
     },
     "execution_count": 6,
     "metadata": {},
     "output_type": "execute_result"
    }
   ],
   "source": [
    "# Create tables \n",
    "# Housing table\n",
    "c.execute(\"\"\"CREATE TABLE housing (\n",
    "               Total_Value INTEGER NOT NULL,\n",
    "               Address VARCHAR(100) PRIMARY KEY NOT NULL,\n",
    "               City CHAR(50) NOT NULL,\n",
    "               Zip_Code INTEGER NOT NULL,\n",
    "               Planning_Jurisdiction INTEGER NOT NULL,\n",
    "               Zoning VARCHAR(50) NOT NULL,\n",
    "               Acreage FLOAT NOT NULL,\n",
    "               Sqft INTEGER NOT NULL,\n",
    "               Age INTEGER NOT NULL,\n",
    "               Bath FLOAT NOT NULL,\n",
    "               Remodel_Addition INTEGER NOT NULL,\n",
    "               Style INTEGER NOT NULL,\n",
    "               Latitude FLOAT NOT NULL,\n",
    "               Longitude FLOAT NOT NULL\n",
    "               )\"\"\")\n",
    "\n",
    "# Crime table\n",
    "c.execute(\"\"\"CREATE TABLE crime (\n",
    "               City CHAR(50) PRIMARY KEY NOT NULL,\n",
    "               Personal_Crime_Count INTEGER NOT NULL,\n",
    "               Personal_Name_Count INTEGER NOT NULL,\n",
    "               Property_Crime_Count INTEGER NOT NULL,\n",
    "               Property_Name_Count INTEGER NOT NULL,\n",
    "               Drug_Crime_Count INTEGER NOT NULL,\n",
    "               Drug_Name_Count INTEGER NOT NULL,\n",
    "               Total_Crime_Count INTEGER NOT NULL,\n",
    "               Total_Name_Count INTEGER NOT NULL,\n",
    "               FOREIGN KEY(City) REFERENCES housing(City)\n",
    "               )\"\"\")\n",
    "\n",
    "# Noise table\n",
    "c.execute(\"\"\"CREATE TABLE noise (\n",
    "               Address VARCHAR(100) PRIMARY KEY NOT NULL,\n",
    "               City CHAR(50) NOT NULL,\n",
    "               Zip_Code INTEGER NOT NULL,\n",
    "               Latitude FLOAT NOT NULL,\n",
    "               Longitude FLOAT NOT NULL,\n",
    "               Decibel FLOAT NOT NULL,\n",
    "               Decibel_Scale INTEGER NOT NULL\n",
    "               )\"\"\")"
   ]
  },
  {
   "cell_type": "markdown",
   "id": "e4d80398",
   "metadata": {},
   "source": [
    "# Add tables"
   ]
  },
  {
   "cell_type": "code",
   "execution_count": 7,
   "id": "1e92d522",
   "metadata": {},
   "outputs": [],
   "source": [
    "# Import dependencies\n",
    "import pandas as pd"
   ]
  },
  {
   "cell_type": "code",
   "execution_count": 8,
   "id": "d9ac011b",
   "metadata": {},
   "outputs": [],
   "source": [
    "# Create dataframes\n",
    "housing_df = pd.read_csv(\"../resources/clean/housing_data_with_coordinates.csv\")\n",
    "crime_df = pd.read_csv(\"../resources/clean/crime_count_data_clean.csv\")\n",
    "noise_df = pd.read_csv(\"../resources/clean/noise_data_clean.csv\")"
   ]
  },
  {
   "cell_type": "code",
   "execution_count": 9,
   "id": "427a39c4",
   "metadata": {},
   "outputs": [],
   "source": [
    "# Connect dataframes to SQLite database\n",
    "housing_df.to_sql(\"housing\", conn, if_exists=\"replace\")\n",
    "crime_df.to_sql(\"crime\", conn, if_exists=\"replace\")\n",
    "noise_df.to_sql(\"noise\", conn, if_exists=\"replace\")"
   ]
  },
  {
   "cell_type": "markdown",
   "id": "ba3d7155",
   "metadata": {},
   "source": [
    "# Join tables"
   ]
  },
  {
   "cell_type": "code",
   "execution_count": 10,
   "id": "348195ed",
   "metadata": {},
   "outputs": [
    {
     "data": {
      "text/plain": [
       "index                      int64\n",
       "Total_Value                int64\n",
       "Address                   object\n",
       "City                      object\n",
       "Zip_Code                   int64\n",
       "Planning_Jurisdiction      int64\n",
       "Zoning                    object\n",
       "Acreage                  float64\n",
       "Sqft                       int64\n",
       "Age                        int64\n",
       "Bath                     float64\n",
       "Remodel_Addition           int64\n",
       "Style                      int64\n",
       "Latitude                 float64\n",
       "Longitude                float64\n",
       "index                      int64\n",
       "City                      object\n",
       "Personal_Crime_Count       int64\n",
       "Personal_Name_Count        int64\n",
       "Property_Crime_Count       int64\n",
       "Property_Name_Count        int64\n",
       "Drug_Crime_Count           int64\n",
       "Drug_Name_Count            int64\n",
       "Total_Crime_Count          int64\n",
       "Total_Name_Count           int64\n",
       "index                      int64\n",
       "Address                   object\n",
       "City                      object\n",
       "Zip_Code                   int64\n",
       "Latitude                 float64\n",
       "Longitude                float64\n",
       "Decibel                  float64\n",
       "Decibel_Scale              int64\n",
       "dtype: object"
      ]
     },
     "execution_count": 10,
     "metadata": {},
     "output_type": "execute_result"
    }
   ],
   "source": [
    "# Join housing, crime, and noise tables\n",
    "joined_tables_df = '''\n",
    "    SELECT *\n",
    "    FROM housing\n",
    "    LEFT JOIN crime ON housing.City = crime.City\n",
    "    LEFT JOIN noise ON housing.Address = noise.Address\n",
    "'''\n",
    "\n",
    "all_data_df = pd.read_sql_query(joined_tables_df, conn)\n",
    "\n",
    "# Show data types of resulting table\n",
    "all_data_df.dtypes"
   ]
  },
  {
   "cell_type": "markdown",
   "id": "be5ccd9b",
   "metadata": {},
   "source": [
    "## Clean Joined Table"
   ]
  },
  {
   "cell_type": "code",
   "execution_count": 11,
   "id": "1d76f10c",
   "metadata": {},
   "outputs": [
    {
     "data": {
      "text/plain": [
       "Total_Value                int64\n",
       "Address                   object\n",
       "City                      object\n",
       "Zip_Code                   int64\n",
       "Planning_Jurisdiction      int64\n",
       "Zoning                    object\n",
       "Acreage                  float64\n",
       "Sqft                       int64\n",
       "Age                        int64\n",
       "Bath                     float64\n",
       "Remodel_Addition           int64\n",
       "Style                      int64\n",
       "Latitude                 float64\n",
       "Longitude                float64\n",
       "Personal_Crime_Count       int64\n",
       "Personal_Name_Count        int64\n",
       "Property_Crime_Count       int64\n",
       "Property_Name_Count        int64\n",
       "Drug_Crime_Count           int64\n",
       "Drug_Name_Count            int64\n",
       "Total_Crime_Count          int64\n",
       "Total_Name_Count           int64\n",
       "Decibel                  float64\n",
       "Decibel_Scale              int64\n",
       "dtype: object"
      ]
     },
     "execution_count": 11,
     "metadata": {},
     "output_type": "execute_result"
    }
   ],
   "source": [
    "# Remove duplicated columns\n",
    "all_data_df = all_data_df.loc[:, ~all_data_df.columns.duplicated()]\n",
    "\n",
    "# Drop extra index column\n",
    "all_data_df = all_data_df.drop(columns=[\"index\"])\n",
    "\n",
    "# Check columns left\n",
    "all_data_df.dtypes"
   ]
  },
  {
   "cell_type": "markdown",
   "id": "a83bd897",
   "metadata": {},
   "source": [
    "## Add table to SQLite Database"
   ]
  },
  {
   "cell_type": "code",
   "execution_count": 12,
   "id": "e2677b7c",
   "metadata": {},
   "outputs": [],
   "source": [
    "# Make sure there is no table to start with\n",
    "c.execute(\"DROP TABLE IF EXISTS combined_data;\")\n",
    "\n",
    "# Add table to sqlite database\n",
    "c.execute(\"\"\"CREATE TABLE combined_data (\n",
    "               Total_Value INTEGER NOT NULL,\n",
    "               Address VARCHAR(100) PRIMARY KEY NOT NULL,\n",
    "               City CHAR(50) NOT NULL,\n",
    "               Zip_Code INTEGER NOT NULL,\n",
    "               Planning_Jurisdiction INTEGER NOT NULL,\n",
    "               Zoning VARCHAR(50) NOT NULL,\n",
    "               Acreage FLOAT NOT NULL,\n",
    "               Sqft INTEGER NOT NULL,\n",
    "               Age INTEGER NOT NULL,\n",
    "               Bath FLOAT NOT NULL,\n",
    "               Remodel_Addition INTEGER NOT NULL,\n",
    "               Style INTEGER NOT NULL,\n",
    "               Latitude FLOAT NOT NULL,\n",
    "               Longitude FLOAT NOT NULL,\n",
    "               Personal_Crime_Count INTEGER NOT NULL,\n",
    "               Personal_Name_Count INTEGER NOT NULL,\n",
    "               Property_Crime_Count INTEGER NOT NULL,\n",
    "               Property_Name_Count INTEGER NOT NULL,\n",
    "               Drug_Crime_Count INTEGER NOT NULL,\n",
    "               Drug_Name_Count INTEGER NOT NULL,\n",
    "               Total_Crime_Count INTEGER NOT NULL,\n",
    "               Total_Name_Count INTEGER NOT NULL,\n",
    "               Decibel FLOAT NOT NULL,\n",
    "               Decibel_Scale INTEGER NOT NULL\n",
    "               )\"\"\")\n",
    "\n",
    "# Insert data\n",
    "all_data_df.to_sql(\"combined_data\", conn, if_exists=\"replace\")"
   ]
  },
  {
   "cell_type": "code",
   "execution_count": 13,
   "id": "9027055a",
   "metadata": {},
   "outputs": [
    {
     "name": "stdout",
     "output_type": "stream",
     "text": [
      "[('housing',), ('crime',), ('noise',), ('combined_data',)]\n"
     ]
    }
   ],
   "source": [
    "# Verify list of tables\n",
    "c.execute(\"SELECT name FROM sqlite_master WHERE type='table';\")\n",
    "print(c.fetchall())"
   ]
  },
  {
   "cell_type": "markdown",
   "id": "73fb23a6",
   "metadata": {},
   "source": [
    "# Close SQLite connection and show data"
   ]
  },
  {
   "cell_type": "code",
   "execution_count": 14,
   "id": "581a7f71",
   "metadata": {},
   "outputs": [
    {
     "data": {
      "text/plain": [
       "<function Connection.close>"
      ]
     },
     "execution_count": 14,
     "metadata": {},
     "output_type": "execute_result"
    }
   ],
   "source": [
    "#close connection\n",
    "conn.close"
   ]
  },
  {
   "cell_type": "code",
   "execution_count": 15,
   "id": "66351072",
   "metadata": {},
   "outputs": [
    {
     "name": "stdout",
     "output_type": "stream",
     "text": [
      "        Total_Value              Address        City  Zip_Code  \\\n",
      "0            249321       2457 BERTIE DR     RALEIGH     27610   \n",
      "1            159933   2848 PROVIDENCE RD     RALEIGH     27610   \n",
      "2            222624    409 S LAKESIDE DR     RALEIGH     27606   \n",
      "3            150723     540 MARSHBURN RD     WENDELL     27591   \n",
      "4            140801      605 WOODLAND RD     RALEIGH     27603   \n",
      "...             ...                  ...         ...       ...   \n",
      "241763       474932          500 KENT DR        CARY     27511   \n",
      "241764       235612    1305 PONDEROSA DR     RALEIGH     27603   \n",
      "241765       897806   1809 STILLWATER DR     RALEIGH     27607   \n",
      "241766        98296  7081 FORESTVILLE RD  KNIGHTDALE     27545   \n",
      "241767       552648      110 SHEPHERD ST     RALEIGH     27607   \n",
      "\n",
      "        Planning_Jurisdiction Zoning  Acreage  Sqft  Age  Bath  ...  \\\n",
      "0                           9    R-4     0.21  1828   59   2.0  ...   \n",
      "1                           9    R-4     0.46  1240   53   1.0  ...   \n",
      "2                           9    R-4     0.43  1037   24   2.0  ...   \n",
      "3                          13     R3     0.46  2261  123   2.0  ...   \n",
      "4                           5     R2     0.51   996   67   1.0  ...   \n",
      "...                       ...    ...      ...   ...  ...   ...  ...   \n",
      "241763                      2   R12P     1.77  3110   26   2.5  ...   \n",
      "241764                     12  R-40W     2.07  1640   61   2.0  ...   \n",
      "241765                      9    R-4     0.34  3202    6   3.5  ...   \n",
      "241766                      7    RMX     2.00  1800   93   1.0  ...   \n",
      "241767                      9    R-6     0.38  2170   84   2.5  ...   \n",
      "\n",
      "        Personal_Crime_Count  Personal_Name_Count  Property_Crime_Count  \\\n",
      "0                       4450                 2945                  5035   \n",
      "1                       4450                 2945                  5035   \n",
      "2                       4450                 2945                  5035   \n",
      "3                         69                   49                    68   \n",
      "4                       4450                 2945                  5035   \n",
      "...                      ...                  ...                   ...   \n",
      "241763                   404                  319                   293   \n",
      "241764                  4450                 2945                  5035   \n",
      "241765                  4450                 2945                  5035   \n",
      "241766                   109                   83                   143   \n",
      "241767                  4450                 2945                  5035   \n",
      "\n",
      "        Property_Name_Count  Drug_Crime_Count  Drug_Name_Count  \\\n",
      "0                      2634              3941             2042   \n",
      "1                      2634              3941             2042   \n",
      "2                      2634              3941             2042   \n",
      "3                        42                61               29   \n",
      "4                      2634              3941             2042   \n",
      "...                     ...               ...              ...   \n",
      "241763                  187               239              145   \n",
      "241764                 2634              3941             2042   \n",
      "241765                 2634              3941             2042   \n",
      "241766                   95                95               54   \n",
      "241767                 2634              3941             2042   \n",
      "\n",
      "        Total_Crime_Count  Total_Name_Count    Decibel  Decibel_Scale  \n",
      "0                   23995              9302  35.000000              1  \n",
      "1                   23995              9302  35.000000              1  \n",
      "2                   23995              9302  35.000000              1  \n",
      "3                     383               205  49.530830              3  \n",
      "4                   23995              9302  55.230927              4  \n",
      "...                   ...               ...        ...            ...  \n",
      "241763               1765               895  35.000000              1  \n",
      "241764              23995              9302  35.000000              1  \n",
      "241765              23995              9302  35.000000              1  \n",
      "241766                625               326  53.961990              3  \n",
      "241767              23995              9302  35.000000              1  \n",
      "\n",
      "[241768 rows x 24 columns]\n"
     ]
    }
   ],
   "source": [
    "# Show data in database\n",
    "print(all_data_df)"
   ]
  }
 ],
 "metadata": {
  "kernelspec": {
   "display_name": "PythonData",
   "language": "python",
   "name": "pythondata"
  },
  "language_info": {
   "codemirror_mode": {
    "name": "ipython",
    "version": 3
   },
   "file_extension": ".py",
   "mimetype": "text/x-python",
   "name": "python",
   "nbconvert_exporter": "python",
   "pygments_lexer": "ipython3",
   "version": "3.7.15"
  }
 },
 "nbformat": 4,
 "nbformat_minor": 5
}
